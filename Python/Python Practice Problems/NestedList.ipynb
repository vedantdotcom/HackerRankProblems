{
 "cells": [
  {
   "cell_type": "markdown",
   "id": "ac90885c-582f-4b5e-b0c6-581b5e70a338",
   "metadata": {},
   "source": [
    "https://www.hackerrank.com/challenges/nested-list\n"
   ]
  },
  {
   "cell_type": "code",
   "execution_count": null,
   "id": "31c16efa-685c-4280-b772-267671c48168",
   "metadata": {},
   "outputs": [],
   "source": []
  }
 ],
 "metadata": {
  "kernelspec": {
   "display_name": "Python 3",
   "language": "python",
   "name": "python3"
  },
  "language_info": {
   "codemirror_mode": {
    "name": "ipython",
    "version": 3
   },
   "file_extension": ".py",
   "mimetype": "text/x-python",
   "name": "python",
   "nbconvert_exporter": "python",
   "pygments_lexer": "ipython3",
   "version": "3.8.8"
  }
 },
 "nbformat": 4,
 "nbformat_minor": 5
}
