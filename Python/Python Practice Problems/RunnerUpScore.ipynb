{
 "cells": [
  {
   "cell_type": "markdown",
   "id": "5899ca8f-01fb-4081-a0d4-afc41e33533c",
   "metadata": {
    "tags": []
   },
   "source": [
    "https://www.hackerrank.com/challenges/find-second-maximum-number-in-a-list"
   ]
  },
  {
   "cell_type": "markdown",
   "id": "5e021d67-8389-42f1-ac45-47f4f92b4e64",
   "metadata": {},
   "source": [
    "Given the participants' score sheet for your University Sports Day, you are required to find the runner-up score. \n",
    "\n",
    "You are given n scores. \n",
    "\n",
    "Store them in a list and find the score of the runner-up."
   ]
  },
  {
   "cell_type": "code",
   "execution_count": 14,
   "id": "07b2c3af-9e9c-431b-b39b-ae4495ef013b",
   "metadata": {
    "tags": []
   },
   "outputs": [
    {
     "name": "stdout",
     "output_type": "stream",
     "text": [
      "5\n"
     ]
    }
   ],
   "source": [
    "arr = [2, 3, 6, 6, 5]\n",
    "x = list(set(arr))\n",
    "x.sort()\n",
    "print(x[-2])"
   ]
  }
 ],
 "metadata": {
  "kernelspec": {
   "display_name": "Python 3",
   "language": "python",
   "name": "python3"
  },
  "language_info": {
   "codemirror_mode": {
    "name": "ipython",
    "version": 3
   },
   "file_extension": ".py",
   "mimetype": "text/x-python",
   "name": "python",
   "nbconvert_exporter": "python",
   "pygments_lexer": "ipython3",
   "version": "3.8.8"
  }
 },
 "nbformat": 4,
 "nbformat_minor": 5
}
