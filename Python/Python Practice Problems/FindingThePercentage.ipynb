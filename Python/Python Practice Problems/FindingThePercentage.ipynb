{
 "cells": [
  {
   "cell_type": "markdown",
   "id": "498cd8ac-e183-4f7c-af15-d4c41a757afb",
   "metadata": {
    "tags": []
   },
   "source": [
    "The provided code stub will read in a dictionary containing key/value pairs of name:[marks] for a list of students. Print the average of the marks array for the student name provided, showing 2 places after the decimal.\n",
    "\n",
    "https://www.hackerrank.com/challenges/finding-the-percentage"
   ]
  },
  {
   "cell_type": "code",
   "execution_count": null,
   "id": "f4ab98be-df2b-4714-b0b3-d593750ebcc4",
   "metadata": {},
   "outputs": [],
   "source": [
    "marks = (student_marks[query_name])\n",
    "average = sum(marks)/len(marks)\n",
    "formatted_average = \"{:.2f}\".format(average)\n",
    "print(formatted_average)"
   ]
  }
 ],
 "metadata": {
  "kernelspec": {
   "display_name": "Python 3",
   "language": "python",
   "name": "python3"
  },
  "language_info": {
   "codemirror_mode": {
    "name": "ipython",
    "version": 3
   },
   "file_extension": ".py",
   "mimetype": "text/x-python",
   "name": "python",
   "nbconvert_exporter": "python",
   "pygments_lexer": "ipython3",
   "version": "3.8.8"
  }
 },
 "nbformat": 4,
 "nbformat_minor": 5
}
