{
 "cells": [
  {
   "cell_type": "code",
   "execution_count": null,
   "id": "c1dedcbc-5673-4e1a-9fb3-b5512a36adb7",
   "metadata": {},
   "outputs": [],
   "source": [
    "# https://www.hackerrank.com/challenges/one-week-preparation-kit-plus-minus"
   ]
  },
  {
   "cell_type": "code",
   "execution_count": 19,
   "id": "55a8ee51-63a7-4344-85ef-3246ea8d9d4b",
   "metadata": {
    "tags": []
   },
   "outputs": [],
   "source": [
    "import math\n",
    "import os\n",
    "import random\n",
    "import re\n",
    "import sys"
   ]
  },
  {
   "cell_type": "code",
   "execution_count": 61,
   "id": "bc45ec36-2e40-489a-b532-8f25e9560a10",
   "metadata": {
    "tags": []
   },
   "outputs": [],
   "source": [
    "def plusMinus(arr):\n",
    "    N = len(arr)\n",
    "\n",
    "    num_neg = 0\n",
    "    num_zer = 0\n",
    "    num_pos = 0\n",
    "\n",
    "    for x in arr:\n",
    "        if x < 0:\n",
    "            num_neg = num_neg + 1\n",
    "        elif x == 0:\n",
    "            num_zer = num_zer + 1\n",
    "        elif x > 0:\n",
    "            num_pos = num_pos + 1\n",
    "    \n",
    "    print('{0:.6f}'.format(round(num_pos/N, 6)))\n",
    "    print('{0:.6f}'.format(round(num_neg/N, 6)))\n",
    "    print('{0:.6f}'.format(round(num_zer/N, 6)))\n",
    "    \n",
    "    \n",
    "    "
   ]
  },
  {
   "cell_type": "code",
   "execution_count": 62,
   "id": "acb26765-48d8-4db6-915b-3c377ec48296",
   "metadata": {
    "tags": []
   },
   "outputs": [
    {
     "name": "stdout",
     "output_type": "stream",
     "text": [
      "0.500000\n",
      "0.333333\n",
      "0.166667\n"
     ]
    }
   ],
   "source": [
    "plusMinus(arr2)"
   ]
  },
  {
   "cell_type": "code",
   "execution_count": 60,
   "id": "af4407ff-907a-4186-ac89-f069ad6b9a08",
   "metadata": {
    "tags": []
   },
   "outputs": [
    {
     "name": "stdout",
     "output_type": "stream",
     "text": [
      "0.333333\n"
     ]
    }
   ],
   "source": [
    "N = len(arr2)\n",
    "print('{0:.6f}'.format(num_pos/N))"
   ]
  }
 ],
 "metadata": {
  "kernelspec": {
   "display_name": "Python 3",
   "language": "python",
   "name": "python3"
  },
  "language_info": {
   "codemirror_mode": {
    "name": "ipython",
    "version": 3
   },
   "file_extension": ".py",
   "mimetype": "text/x-python",
   "name": "python",
   "nbconvert_exporter": "python",
   "pygments_lexer": "ipython3",
   "version": "3.8.8"
  }
 },
 "nbformat": 4,
 "nbformat_minor": 5
}
