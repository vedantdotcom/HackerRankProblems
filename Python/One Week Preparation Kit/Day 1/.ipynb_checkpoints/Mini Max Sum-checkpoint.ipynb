{
 "cells": [
  {
   "cell_type": "markdown",
   "id": "73abbb55-2c29-45a6-a6ed-d4c9e630bda3",
   "metadata": {},
   "source": [
    "Given five positive integers, find the minimum and maximum values that can be calculated by  \n",
    "summing exactly four of the five integers.  Then print the respective minimum and maximum values  \n",
    "as a single line of two space-separated long integers. \n",
    "\n",
    "Link: https://www.hackerrank.com/challenges/one-week-preparation-kit-mini-max-sum"
   ]
  },
  {
   "cell_type": "code",
   "execution_count": 1,
   "id": "f68965c2-86b6-402f-8265-85d10a73101f",
   "metadata": {
    "tags": []
   },
   "outputs": [],
   "source": [
    "import math\n",
    "import os\n",
    "import random\n",
    "import re\n",
    "import sys"
   ]
  },
  {
   "cell_type": "code",
   "execution_count": 7,
   "id": "921807f8-b0c7-4389-bfe6-5055aa845538",
   "metadata": {
    "tags": []
   },
   "outputs": [],
   "source": [
    "def miniMaxSum(arr):\n",
    "    x = sum(arr)\n",
    "    MinSum = x - max(arr)\n",
    "    MaxSum = x - min(arr)\n",
    "    \n",
    "    print(MinSum, MaxSum)"
   ]
  }
 ],
 "metadata": {
  "kernelspec": {
   "display_name": "Python 3",
   "language": "python",
   "name": "python3"
  },
  "language_info": {
   "codemirror_mode": {
    "name": "ipython",
    "version": 3
   },
   "file_extension": ".py",
   "mimetype": "text/x-python",
   "name": "python",
   "nbconvert_exporter": "python",
   "pygments_lexer": "ipython3",
   "version": "3.8.8"
  }
 },
 "nbformat": 4,
 "nbformat_minor": 5
}
