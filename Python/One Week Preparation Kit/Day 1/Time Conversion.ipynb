{
 "cells": [
  {
   "cell_type": "markdown",
   "id": "2301668d-3166-485e-981f-d8469bb57828",
   "metadata": {},
   "source": [
    "Given a time in -hour AM/PM format, convert it to military (24-hour) time.\n",
    "\n",
    "Note: \n",
    "- 12:00:00AM on a 12-hour clock is 00:00:00 on a 24-hour clock.\n",
    "- 12:00:00PM on a 12-hour clock is 12:00:00 on a 24-hour clock.\n",
    "\n",
    "https://www.hackerrank.com/challenges/one-week-preparation-kit-time-conversion"
   ]
  },
  {
   "cell_type": "code",
   "execution_count": 1,
   "id": "13cb81f1-7e2a-4baf-8e8b-de9658229a24",
   "metadata": {
    "tags": []
   },
   "outputs": [],
   "source": [
    "import math\n",
    "import os\n",
    "import random\n",
    "import re\n",
    "import sys"
   ]
  },
  {
   "cell_type": "code",
   "execution_count": 54,
   "id": "82679806-c820-4054-92b2-2901cd602b8a",
   "metadata": {
    "tags": []
   },
   "outputs": [],
   "source": [
    "def timeConversion(s):\n",
    "    hour = int(s[:2])\n",
    "    minsecs = s[2:-2]\n",
    "    period = s[-2:]\n",
    "\n",
    "    if period == \"AM\":\n",
    "        if hour >= 0 and hour <= 11:\n",
    "            hour = hour\n",
    "        elif hour == 12:\n",
    "            hour = 0\n",
    "    if period == \"PM\":\n",
    "        if hour >= 0 and hour <= 11:\n",
    "            hour = hour + 12\n",
    "        elif hour == 12:\n",
    "            hour = hour\n",
    "\n",
    "    hour = \"{:02d}\".format(hour)\n",
    "    time = hour +  minsecs\n",
    "\n",
    "    return time"
   ]
  },
  {
   "cell_type": "code",
   "execution_count": 55,
   "id": "56b664b7-6f27-44f9-9fd0-d676d3f34331",
   "metadata": {
    "tags": []
   },
   "outputs": [
    {
     "data": {
      "text/plain": [
       "'19:05:45'"
      ]
     },
     "execution_count": 55,
     "metadata": {},
     "output_type": "execute_result"
    }
   ],
   "source": [
    "s = \"07:05:45PM\"\n",
    "timeConversion(s)"
   ]
  }
 ],
 "metadata": {
  "kernelspec": {
   "display_name": "Python 3",
   "language": "python",
   "name": "python3"
  },
  "language_info": {
   "codemirror_mode": {
    "name": "ipython",
    "version": 3
   },
   "file_extension": ".py",
   "mimetype": "text/x-python",
   "name": "python",
   "nbconvert_exporter": "python",
   "pygments_lexer": "ipython3",
   "version": "3.8.8"
  }
 },
 "nbformat": 4,
 "nbformat_minor": 5
}
