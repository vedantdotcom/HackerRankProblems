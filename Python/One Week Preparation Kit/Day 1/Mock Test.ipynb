{
 "cells": [
  {
   "cell_type": "markdown",
   "id": "fb072fff-f7b2-4247-8334-1f27455dc94d",
   "metadata": {},
   "source": [
    "Given a number n, for each integer i in the range from \n",
    "\n",
    "1 to n inclusive, print one value per line as follows:  \n",
    "\n",
    "- If i is a multiple of both 3 and 5, print FizzBuzz.\n",
    "- If i isa multiple of 3 (but not 5), print Fizz.\n",
    "- If i is a multipel of 5 (but not 3), print Buzz.\n",
    "- If i is not a multiple of 3 or 5, print the value of i."
   ]
  },
  {
   "cell_type": "code",
   "execution_count": 50,
   "id": "f0938e62-0e1b-40eb-bcd2-06fcdd078a45",
   "metadata": {
    "tags": []
   },
   "outputs": [],
   "source": [
    "def fizzBuzz(n):\n",
    "    Nums = list(range(1, n + 1))\n",
    "    \n",
    "    for x in range(0, len(Nums)):\n",
    "        if Nums[x] % 3 == 0 and Nums[x] % 5 != 0:\n",
    "            Nums[x] = \"Fizz\"\n",
    "        elif Nums[x] % 5 == 0 and Nums[x] % 3 != 0:\n",
    "            Nums[x] = \"Buzz\"\n",
    "        elif Nums[x] % 3 == 0 and Nums[x] % 5 == 0:\n",
    "            Nums[x] = \"FizzBuzz\"\n",
    "        elif Nums[x] % 3 != 0 and Nums[x] % 5 != 0:\n",
    "            Nums[x] = x + 1\n",
    "\n",
    "        print(Nums[x])"
   ]
  },
  {
   "cell_type": "code",
   "execution_count": 52,
   "id": "b0f1df01-1a05-4421-aa5f-d70c25083820",
   "metadata": {
    "tags": []
   },
   "outputs": [
    {
     "name": "stdout",
     "output_type": "stream",
     "text": [
      "1\n",
      "2\n",
      "Fizz\n",
      "4\n",
      "Buzz\n",
      "Fizz\n",
      "7\n",
      "8\n",
      "Fizz\n",
      "Buzz\n",
      "11\n",
      "Fizz\n",
      "13\n",
      "14\n",
      "FizzBuzz\n"
     ]
    }
   ],
   "source": [
    "n = 15\n",
    "fizzBuzz(n)"
   ]
  }
 ],
 "metadata": {
  "kernelspec": {
   "display_name": "Python 3",
   "language": "python",
   "name": "python3"
  },
  "language_info": {
   "codemirror_mode": {
    "name": "ipython",
    "version": 3
   },
   "file_extension": ".py",
   "mimetype": "text/x-python",
   "name": "python",
   "nbconvert_exporter": "python",
   "pygments_lexer": "ipython3",
   "version": "3.8.8"
  }
 },
 "nbformat": 4,
 "nbformat_minor": 5
}
