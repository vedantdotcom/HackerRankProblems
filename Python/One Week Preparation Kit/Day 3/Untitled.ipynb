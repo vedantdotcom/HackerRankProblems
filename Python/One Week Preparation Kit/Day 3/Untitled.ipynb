{
 "cells": [
  {
   "cell_type": "code",
   "execution_count": 37,
   "id": "220d4340-e050-4dd0-b921-d67bee705960",
   "metadata": {
    "tags": []
   },
   "outputs": [],
   "source": [
    "s = \"bcbc\"\n",
    "forward = list(s)\n",
    "backward = list(s[::-1])\n"
   ]
  },
  {
   "cell_type": "code",
   "execution_count": 38,
   "id": "45622514-40e0-4537-8239-497db5020c5c",
   "metadata": {
    "tags": []
   },
   "outputs": [
    {
     "ename": "NameError",
     "evalue": "name 'reverse' is not defined",
     "output_type": "error",
     "traceback": [
      "\u001b[1;31m---------------------------------------------------------------------------\u001b[0m",
      "\u001b[1;31mNameError\u001b[0m                                 Traceback (most recent call last)",
      "\u001b[1;32m<ipython-input-39-9f54e31d07f4>\u001b[0m in \u001b[0;36m<module>\u001b[1;34m\u001b[0m\n\u001b[1;32m----> 1\u001b[1;33m \u001b[0mbackward\u001b[0m \u001b[1;33m=\u001b[0m \u001b[0mreverse\u001b[0m\u001b[1;33m(\u001b[0m\u001b[0mforward\u001b[0m\u001b[1;33m)\u001b[0m\u001b[1;33m\u001b[0m\u001b[1;33m\u001b[0m\u001b[0m\n\u001b[0m",
      "\u001b[1;31mNameError\u001b[0m: name 'reverse' is not defined"
     ]
    }
   ],
   "source": []
  },
  {
   "cell_type": "code",
   "execution_count": 35,
   "id": "5c67f31e-b4cc-4870-bb1e-6134fd417c33",
   "metadata": {
    "tags": []
   },
   "outputs": [],
   "source": [
    "backward"
   ]
  },
  {
   "cell_type": "code",
   "execution_count": 49,
   "id": "1e805125-0198-4060-911a-2e0018eef898",
   "metadata": {
    "tags": []
   },
   "outputs": [
    {
     "name": "stdout",
     "output_type": "stream",
     "text": [
      "cbc\n"
     ]
    }
   ],
   "source": [
    "\n",
    "\n",
    "\n",
    "print(string)\n",
    "    \n",
    "    \n",
    "    "
   ]
  },
  {
   "cell_type": "code",
   "execution_count": 50,
   "id": "c599508c-00f4-41e7-ab2d-ba2c49a832cd",
   "metadata": {
    "tags": []
   },
   "outputs": [],
   "source": [
    "def palindromeIndex(s):\n",
    "    s = \"bcbc\"\n",
    "    length = len(s)\n",
    "    x = 0\n",
    "    \n",
    "    while x < length:\n",
    "        forward = list(s)\n",
    "        del[forward[x]]\n",
    "           \n",
    "        if forward == forward[::-1]:\n",
    "            string = ''.join(forward)\n",
    "            x = length\n",
    "        else:\n",
    "            x = x + 1\n",
    "    return string\n",
    "    print(string)\n",
    "        \n"
   ]
  },
  {
   "cell_type": "code",
   "execution_count": 53,
   "id": "475c02aa-b4ff-44f5-a8cc-6e36a7b0c91b",
   "metadata": {
    "tags": []
   },
   "outputs": [
    {
     "name": "stdout",
     "output_type": "stream",
     "text": [
      "0\n"
     ]
    }
   ],
   "source": [
    "s = \"bcbc\"\n",
    "length = len(s)\n",
    "x = 0\n",
    "    \n",
    "while x < length:\n",
    "    forward = list(s)\n",
    "    del[forward[x]]\n",
    "          \n",
    "    if forward == forward[::-1]:\n",
    "        index = x\n",
    "        x = length\n",
    "    else:\n",
    "        x = x + 1\n",
    "print(index)"
   ]
  }
 ],
 "metadata": {
  "kernelspec": {
   "display_name": "Python 3",
   "language": "python",
   "name": "python3"
  },
  "language_info": {
   "codemirror_mode": {
    "name": "ipython",
    "version": 3
   },
   "file_extension": ".py",
   "mimetype": "text/x-python",
   "name": "python",
   "nbconvert_exporter": "python",
   "pygments_lexer": "ipython3",
   "version": "3.8.8"
  }
 },
 "nbformat": 4,
 "nbformat_minor": 5
}
