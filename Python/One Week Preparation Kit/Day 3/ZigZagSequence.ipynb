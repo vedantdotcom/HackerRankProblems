{
 "cells": [
  {
   "cell_type": "markdown",
   "id": "2a916b1e-2163-47b7-9802-09cefe08aac1",
   "metadata": {},
   "source": [
    "Given an array of  distinct integers, transform the array into a zig zag sequence by permuting the array elements. A sequence will be called a zig zag sequence if the first elements in the sequence are in increasing order and the last  elements are in decreasing order. You need to find the lexicographically smallest zig zag sequence of the given array.\n",
    "\n",
    "https://www.hackerrank.com/challenges/one-week-preparation-kit-zig-zag-sequence"
   ]
  },
  {
   "cell_type": "code",
   "execution_count": 62,
   "id": "e748d03e-5589-45f4-8190-1c1baf67d3ad",
   "metadata": {
    "tags": []
   },
   "outputs": [],
   "source": [
    "def findZigZagSequence(a, n):\n",
    "    a.sort()\n",
    "    mid = int((n + 1)/2) - 1 # Get correct midpoint\n",
    "    a[mid], a[n-1] = a[n-1], a[mid]\n",
    "\n",
    "    st = mid + 1\n",
    "    ed = n - 2 # Get correct ending point\n",
    "    while(st <= ed):\n",
    "        a[st], a[ed] = a[ed], a[st]\n",
    "        st = st + 1\n",
    "        ed = ed - 1 # Iterate ending point downoard\n",
    "\n",
    "    for i in range (n):\n",
    "        if i == n-1:\n",
    "            print(a[i])\n",
    "        else:\n",
    "            print(a[i], end = ' ')\n",
    "    return"
   ]
  },
  {
   "cell_type": "code",
   "execution_count": 63,
   "id": "8548d3d6-f1ac-4611-8e2e-06657fc15c7b",
   "metadata": {
    "tags": []
   },
   "outputs": [
    {
     "name": "stdout",
     "output_type": "stream",
     "text": [
      "[1, 2, 3, 4, 7, 6, 5] 6 6\n"
     ]
    }
   ],
   "source": [
    "a = [1, 2, 3, 4, 5, 6, 7]\n",
    "n = len(a)"
   ]
  },
  {
   "cell_type": "code",
   "execution_count": 64,
   "id": "f60cb975-006e-4476-9037-5689a3069a39",
   "metadata": {
    "tags": []
   },
   "outputs": [
    {
     "name": "stdout",
     "output_type": "stream",
     "text": [
      "1 2 3 7 6 5 4\n"
     ]
    }
   ],
   "source": [
    "findZigZagSequence(a, n)"
   ]
  }
 ],
 "metadata": {
  "kernelspec": {
   "display_name": "Python 3",
   "language": "python",
   "name": "python3"
  },
  "language_info": {
   "codemirror_mode": {
    "name": "ipython",
    "version": 3
   },
   "file_extension": ".py",
   "mimetype": "text/x-python",
   "name": "python",
   "nbconvert_exporter": "python",
   "pygments_lexer": "ipython3",
   "version": "3.8.8"
  }
 },
 "nbformat": 4,
 "nbformat_minor": 5
}
