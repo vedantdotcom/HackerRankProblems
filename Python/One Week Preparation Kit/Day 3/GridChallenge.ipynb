{
 "cells": [
  {
   "cell_type": "markdown",
   "id": "60a782ae-324d-4d4a-a86d-3e2f1e17201c",
   "metadata": {},
   "source": [
    "Given a square grid of characters in the range ascii[a-z], rearrange elements of each row alphabetically, ascending. Determine if the columns are also in ascending alphabetical order, top to bottom. Return YES if they are or NO if they are not.\n",
    "\n",
    "https://www.hackerrank.com/challenges/one-week-preparation-kit-grid-challenge"
   ]
  },
  {
   "cell_type": "code",
   "execution_count": 125,
   "id": "0416cbf7-0085-4ca1-9d3f-a20cf01b5f9b",
   "metadata": {
    "tags": []
   },
   "outputs": [],
   "source": [
    "grid = ['ebacd', 'fghij', 'olmkn', 'trpqs', 'xywuv']"
   ]
  },
  {
   "cell_type": "code",
   "execution_count": 133,
   "id": "4168dd98-908d-4ae4-a4bb-600706b93b98",
   "metadata": {
    "tags": []
   },
   "outputs": [
    {
     "data": {
      "text/plain": [
       "['abcde', 'fghij', 'klmno', 'pqrst', 'uvwxy']"
      ]
     },
     "execution_count": 133,
     "metadata": {},
     "output_type": "execute_result"
    }
   ],
   "source": [
    "# Sort row strings in grid\n",
    "for x in range(0, len(grid)):\n",
    "    string = list(grid[x])\n",
    "    string.sort()\n",
    "    string = ''.join(string)\n",
    "    grid[x] = string\n",
    "    \n",
    "grid"
   ]
  },
  {
   "cell_type": "code",
   "execution_count": 132,
   "id": "5a20eb60-87d6-406d-a557-8b4c06721b6f",
   "metadata": {
    "tags": []
   },
   "outputs": [
    {
     "data": {
      "text/plain": [
       "['afkpu', 'bglqv', 'chmrw', 'dinsx', 'ejoty']"
      ]
     },
     "execution_count": 132,
     "metadata": {},
     "output_type": "execute_result"
    }
   ],
   "source": [
    "# Get column strings\n",
    "columns = []\n",
    "for i in range(0, len(grid)):\n",
    "    col = \"\"\n",
    "    for x in range(0, len(grid)):\n",
    "        col = col + grid[x][i]\n",
    "    \n",
    "    columns.append(col)\n",
    "\n",
    "columns"
   ]
  },
  {
   "cell_type": "code",
   "execution_count": 150,
   "id": "72000152-fa12-4be7-a104-d79660b69eee",
   "metadata": {
    "tags": []
   },
   "outputs": [
    {
     "name": "stdout",
     "output_type": "stream",
     "text": [
      "YES ejoty\n"
     ]
    }
   ],
   "source": [
    "# Test each string column\n",
    "output = \"YES\"\n",
    "x = 0\n",
    "while x < len(columns):\n",
    "    string = columns[x]\n",
    "    \n",
    "    if string == ''.join(sorted(string)):\n",
    "        x = x + 1\n",
    "    elif string != ''.join(sorted(string)):\n",
    "        output = \"NO\"\n",
    "        x = len(columns)\n",
    "\n"
   ]
  },
  {
   "cell_type": "code",
   "execution_count": 151,
   "id": "374706e1-a61a-4eb3-a10d-ad04a3813a84",
   "metadata": {
    "tags": []
   },
   "outputs": [],
   "source": [
    "def gridChallenge(grid):\n",
    "    grid_length = len(grid)\n",
    "    string_length = len(grid[0])\n",
    "    # Sort row strings in grid\n",
    "    for x in range(0, grid_length):\n",
    "        string = list(grid[x])\n",
    "        string.sort()\n",
    "        string = ''.join(string)\n",
    "        grid[x] = string\n",
    "    \n",
    "    # Get column strings\n",
    "    columns = []\n",
    "    for i in range(0, string_length):\n",
    "        col = \"\"\n",
    "        for x in range(0, grid_length):\n",
    "            col = col + grid[x][i]\n",
    "    \n",
    "        columns.append(col)\n",
    "        \n",
    "    # Test each string column\n",
    "    output = \"YES\"\n",
    "    x = 0\n",
    "    \n",
    "    while x < len(columns):\n",
    "        string = columns[x]\n",
    "        \n",
    "        if string == ''.join(sorted(string)):\n",
    "            x = x + 1\n",
    "        elif string != ''.join(sorted(string)):\n",
    "            output = \"NO\"\n",
    "            x = len(columns)\n",
    "    \n",
    "    return(output)\n",
    "    print(output)"
   ]
  },
  {
   "cell_type": "code",
   "execution_count": 155,
   "id": "ea1f51a2-76f3-48be-94cf-5e6ffc629dce",
   "metadata": {
    "tags": []
   },
   "outputs": [],
   "source": [
    "grid = ['zzzz', 'fghij', 'olmkn', 'trpqs', 'xywuv']"
   ]
  },
  {
   "cell_type": "code",
   "execution_count": 156,
   "id": "22de67f2-21f7-4a60-b83f-ba0628116772",
   "metadata": {
    "tags": []
   },
   "outputs": [
    {
     "data": {
      "text/plain": [
       "'NO'"
      ]
     },
     "execution_count": 158,
     "metadata": {},
     "output_type": "execute_result"
    }
   ],
   "source": [
    "gridChallenge(grid)"
   ]
  }
 ],
 "metadata": {
  "kernelspec": {
   "display_name": "Python 3",
   "language": "python",
   "name": "python3"
  },
  "language_info": {
   "codemirror_mode": {
    "name": "ipython",
    "version": 3
   },
   "file_extension": ".py",
   "mimetype": "text/x-python",
   "name": "python",
   "nbconvert_exporter": "python",
   "pygments_lexer": "ipython3",
   "version": "3.8.8"
  }
 },
 "nbformat": 4,
 "nbformat_minor": 5
}
