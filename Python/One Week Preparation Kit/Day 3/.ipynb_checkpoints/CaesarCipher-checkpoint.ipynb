{
 "cells": [
  {
   "cell_type": "markdown",
   "id": "caf99d0e-d881-4ac3-9e97-e4d1ab271b94",
   "metadata": {},
   "source": [
    "Julius Caesar protected his confidential information by encrypting it using a cipher. Caesar's cipher shifts each letter by a number of letters. If the shift takes you past the end of the alphabet, just rotate back to the front of the alphabet. In the case of a rotation by 3, w, x, y and z would map to z, a, b and c.\n",
    "\n",
    "https://www.hackerrank.com/challenges/one-week-preparation-kit-caesar-cipher-1"
   ]
  },
  {
   "cell_type": "code",
   "execution_count": 2,
   "id": "2df40c62-779c-4dec-a63f-be09ca26c616",
   "metadata": {
    "tags": []
   },
   "outputs": [],
   "source": [
    "import string"
   ]
  },
  {
   "cell_type": "code",
   "execution_count": 138,
   "id": "8236b345-03e6-497d-a42e-07851918b39d",
   "metadata": {
    "tags": []
   },
   "outputs": [],
   "source": [
    "def caesarCipher(s, k):\n",
    "    lower = ['a', 'b', 'c', 'd', 'e', 'f', 'g', 'h', 'i', 'j', 'k', 'l', 'm', 'n', 'o', 'p', 'q', 'r', 's', 't', 'u', 'v', 'w', 'x', 'y','z' ]\n",
    "    upper = ['A', 'B', 'C', 'D', 'E', 'F', 'G', 'H', 'I', 'J', 'K', 'L', 'M', 'N', 'O', 'P', 'Q', 'R', 'S', 'T', 'U', 'V', 'W', 'X', 'Y', 'Z']\n",
    "    \n",
    "    string = s\n",
    "    shift = k % 26\n",
    "    \n",
    "    lower_first_split = lower[:shift]\n",
    "    lower_second_split = lower[shift:]\n",
    "    lower_shifted = lower_second_split + lower_first_split\n",
    "\n",
    "    upper_first_split = upper[:shift]\n",
    "    upper_second_split = upper[shift:]\n",
    "    upper_shifted = upper_second_split + upper_first_split\n",
    "\n",
    "    original_alphabet = lower + upper \n",
    "    shifted_alphabet = lower_shifted + upper_shifted\n",
    "\n",
    "    encoded_list = []\n",
    "    for x in string:\n",
    "        if x in shifted_alphabet:\n",
    "            index = original_alphabet.index(x)  \n",
    "            encoded_list.append(shifted_alphabet[index])\n",
    "        else:\n",
    "            encoded_list.append(x)\n",
    "    \n",
    "    encoded_string = ''.join(encoded_list)\n",
    "    return encoded_string\n",
    "    print(encoded_string)"
   ]
  },
  {
   "cell_type": "code",
   "execution_count": 142,
   "id": "bffd882b-eb33-44bd-bda4-6f199914c13c",
   "metadata": {
    "tags": []
   },
   "outputs": [
    {
     "data": {
      "text/plain": [
       "'okffng-Qwvb'"
      ]
     },
     "execution_count": 142,
     "metadata": {},
     "output_type": "execute_result"
    }
   ],
   "source": [
    "caesarCipher('middle-Outz', 2)"
   ]
  }
 ],
 "metadata": {
  "kernelspec": {
   "display_name": "Python 3",
   "language": "python",
   "name": "python3"
  },
  "language_info": {
   "codemirror_mode": {
    "name": "ipython",
    "version": 3
   },
   "file_extension": ".py",
   "mimetype": "text/x-python",
   "name": "python",
   "nbconvert_exporter": "python",
   "pygments_lexer": "ipython3",
   "version": "3.8.8"
  }
 },
 "nbformat": 4,
 "nbformat_minor": 5
}
