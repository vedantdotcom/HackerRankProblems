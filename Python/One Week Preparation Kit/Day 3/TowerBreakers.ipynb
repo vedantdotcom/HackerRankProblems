{
 "cells": [
  {
   "cell_type": "markdown",
   "id": "b9437db7-39d8-49e0-b603-3c05a051c7d7",
   "metadata": {},
   "source": [
    "Two players are playing a game of Tower Breakers!\n",
    "\n",
    "https://www.hackerrank.com/challenges/one-week-preparation-kit-tower-breakers-1\n",
    "\n",
    "Note: This is a poorly written question."
   ]
  },
  {
   "cell_type": "code",
   "execution_count": 5,
   "id": "cebfa279-e9d2-4903-83ed-dcdfab05fb08",
   "metadata": {
    "tags": []
   },
   "outputs": [],
   "source": [
    "def towerBreakers(n, m):\n",
    "    if m == 1:\n",
    "        winner = 2\n",
    "    elif m > 1 and n % 2 == 0:\n",
    "        winner = 2\n",
    "    else:\n",
    "        winner = 1\n",
    "    return winner\n",
    "    print(winner)"
   ]
  }
 ],
 "metadata": {
  "kernelspec": {
   "display_name": "Python 3",
   "language": "python",
   "name": "python3"
  },
  "language_info": {
   "codemirror_mode": {
    "name": "ipython",
    "version": 3
   },
   "file_extension": ".py",
   "mimetype": "text/x-python",
   "name": "python",
   "nbconvert_exporter": "python",
   "pygments_lexer": "ipython3",
   "version": "3.8.8"
  }
 },
 "nbformat": 4,
 "nbformat_minor": 5
}
