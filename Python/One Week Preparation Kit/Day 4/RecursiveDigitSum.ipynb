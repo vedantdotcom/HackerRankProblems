{
 "cells": [
  {
   "cell_type": "markdown",
   "id": "380d76af-3e1e-46ba-9163-566809e34ddc",
   "metadata": {},
   "source": [
    "We define super digit of an integer  using the following rules:\n",
    "\n",
    "Given an integer, we need to find the super digit of the integer.\n",
    "\n",
    "https://www.hackerrank.com/challenges/one-week-preparation-kit-recursive-digit-sum"
   ]
  },
  {
   "cell_type": "code",
   "execution_count": 231,
   "id": "98b3a2d5-4e39-4a32-86ef-e301612788d2",
   "metadata": {
    "tags": []
   },
   "outputs": [],
   "source": [
    "# This is like a while loop without the \"while\". Credit to tyvaughn_holness for the template\n",
    "\n",
    "def superDigit(n, k):\n",
    "    # Check for singletons\n",
    "    if k == 1 and len(n) == 1:\n",
    "        return int(n)\n",
    "    else: \n",
    "        s = 0\n",
    "        for x in n:\n",
    "            s = s + int(x)\n",
    "        return superDigit(str(s * k), 1)"
   ]
  },
  {
   "cell_type": "code",
   "execution_count": 232,
   "id": "4ab45a80-6010-4da2-a786-e7e0a3b3e48e",
   "metadata": {
    "tags": []
   },
   "outputs": [
    {
     "data": {
      "text/plain": [
       "8"
      ]
     },
     "execution_count": 232,
     "metadata": {},
     "output_type": "execute_result"
    }
   ],
   "source": [
    "superDigit(\"9785\", 4)"
   ]
  }
 ],
 "metadata": {
  "kernelspec": {
   "display_name": "Python 3",
   "language": "python",
   "name": "python3"
  },
  "language_info": {
   "codemirror_mode": {
    "name": "ipython",
    "version": 3
   },
   "file_extension": ".py",
   "mimetype": "text/x-python",
   "name": "python",
   "nbconvert_exporter": "python",
   "pygments_lexer": "ipython3",
   "version": "3.8.8"
  }
 },
 "nbformat": 4,
 "nbformat_minor": 5
}
