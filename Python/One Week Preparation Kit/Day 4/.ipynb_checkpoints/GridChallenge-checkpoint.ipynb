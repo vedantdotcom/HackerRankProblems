{
 "cells": [
  {
   "cell_type": "markdown",
   "id": "60a782ae-324d-4d4a-a86d-3e2f1e17201c",
   "metadata": {},
   "source": [
    "Given a square grid of characters in the range ascii[a-z], rearrange elements of each row alphabetically, ascending. Determine if the columns are also in ascending alphabetical order, top to bottom. Return YES if they are or NO if they are not.\n",
    "\n",
    "https://www.hackerrank.com/challenges/one-week-preparation-kit-grid-challenge"
   ]
  },
  {
   "cell_type": "code",
   "execution_count": 1,
   "id": "374706e1-a61a-4eb3-a10d-ad04a3813a84",
   "metadata": {
    "tags": []
   },
   "outputs": [],
   "source": [
    "def gridChallenge(grid):\n",
    "    grid_length = len(grid)\n",
    "    string_length = len(grid[0])\n",
    "    \n",
    "    # Sort row strings in grid\n",
    "    for x in range(0, grid_length):\n",
    "        string = list(grid[x])\n",
    "        string.sort()\n",
    "        string = ''.join(string)\n",
    "        grid[x] = string\n",
    "    \n",
    "    # Get column strings\n",
    "    columns = []\n",
    "    for i in range(0, string_length):\n",
    "        col = \"\"\n",
    "        for x in range(0, grid_length):\n",
    "            col = col + grid[x][i]\n",
    "    \n",
    "        columns.append(col)\n",
    "        \n",
    "    # Test each string column\n",
    "    output = \"YES\"\n",
    "    x = 0\n",
    "    \n",
    "    while x < string_length:\n",
    "        string = columns[x]\n",
    "        \n",
    "        if string == ''.join(sorted(string)):\n",
    "            x = x + 1\n",
    "        elif string != ''.join(sorted(string)):\n",
    "            output = \"NO\"\n",
    "            x = len(columns)\n",
    "    \n",
    "    return(output)\n",
    "    print(output)"
   ]
  },
  {
   "cell_type": "code",
   "execution_count": 2,
   "id": "ea1f51a2-76f3-48be-94cf-5e6ffc629dce",
   "metadata": {
    "tags": []
   },
   "outputs": [],
   "source": [
    "grid = ['abcde', 'fghij', 'olmkn', 'trpqs', 'xywuv', 'zzzzz']"
   ]
  },
  {
   "cell_type": "code",
   "execution_count": 3,
   "id": "22de67f2-21f7-4a60-b83f-ba0628116772",
   "metadata": {
    "tags": []
   },
   "outputs": [
    {
     "data": {
      "text/plain": [
       "'YES'"
      ]
     },
     "execution_count": 3,
     "metadata": {},
     "output_type": "execute_result"
    }
   ],
   "source": [
    "gridChallenge(grid)"
   ]
  },
  {
   "cell_type": "code",
   "execution_count": null,
   "id": "98efcd9f-6860-44a5-9554-dbdedd6109a8",
   "metadata": {},
   "outputs": [],
   "source": []
  }
 ],
 "metadata": {
  "kernelspec": {
   "display_name": "Python 3",
   "language": "python",
   "name": "python3"
  },
  "language_info": {
   "codemirror_mode": {
    "name": "ipython",
    "version": 3
   },
   "file_extension": ".py",
   "mimetype": "text/x-python",
   "name": "python",
   "nbconvert_exporter": "python",
   "pygments_lexer": "ipython3",
   "version": "3.8.8"
  }
 },
 "nbformat": 4,
 "nbformat_minor": 5
}
