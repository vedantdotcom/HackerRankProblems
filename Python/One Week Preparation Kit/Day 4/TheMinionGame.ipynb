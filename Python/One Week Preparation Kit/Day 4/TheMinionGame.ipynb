{
 "cells": [
  {
   "cell_type": "markdown",
   "id": "b0ce1ab6-3ab9-43ad-9765-16e4f8322b9a",
   "metadata": {},
   "source": [
    "https://www.hackerrank.com/challenges/the-minion-game"
   ]
  },
  {
   "cell_type": "code",
   "execution_count": 60,
   "id": "a46224b3-b360-48e7-8a2b-6ab34b3b3290",
   "metadata": {
    "tags": []
   },
   "outputs": [],
   "source": [
    "s = \"BANANA\""
   ]
  },
  {
   "cell_type": "code",
   "execution_count": 61,
   "id": "7f8ff5cb-f4db-46da-8a5a-ff526752aab4",
   "metadata": {
    "tags": []
   },
   "outputs": [],
   "source": [
    "alphabet = [\"A\", \"B\", \"C\", \"D\", \"E\", \"F\", \"G\", \"H\", \"I\", \"J\", \"K\", \"L\", \"M\", \"N\", \"O\", \"P\", \"Q\", \"R\", \"S\", \"T\", \"U\", \"V\", \"W\", \"X\", \"Y\", \"Z\"]"
   ]
  },
  {
   "cell_type": "code",
   "execution_count": 62,
   "id": "adefdb17-7ca0-4647-b5aa-4656ea476472",
   "metadata": {
    "tags": []
   },
   "outputs": [],
   "source": [
    "vowels = [\"A\", \"E\", \"I\", \"O\", \"U\"]"
   ]
  },
  {
   "cell_type": "code",
   "execution_count": 63,
   "id": "9419d595-51c9-45a1-be91-9b505c76ebfc",
   "metadata": {
    "tags": []
   },
   "outputs": [],
   "source": [
    "consonants = [\"B\", \"C\", \"D\", \"F\", \"G\", \"H\", \"J\", \"K\", \"L\", \"M\", \"N\", \"P\", \"Q\", \"R\", \"S\", \"T\", \"V\", \"W\", \"X\", \"Y\", \"Z\"]"
   ]
  },
  {
   "cell_type": "code",
   "execution_count": 46,
   "id": "728daa10-cebe-4b0b-972d-37c82c41f119",
   "metadata": {
    "tags": []
   },
   "outputs": [],
   "source": [
    "substrings = [s[i:j] for i in range(0, len(s))\n",
    "               for j in range(i + 1, len(s) + 1)]"
   ]
  },
  {
   "cell_type": "code",
   "execution_count": 49,
   "id": "bfbc504c-0415-4730-80cb-44761dbd8f94",
   "metadata": {
    "tags": []
   },
   "outputs": [],
   "source": [
    "substrings_u = sorted(list(set(substrings)))"
   ]
  },
  {
   "cell_type": "code",
   "execution_count": 51,
   "id": "7bdf98a2-973e-4b64-9417-32646de1e9e8",
   "metadata": {
    "tags": []
   },
   "outputs": [],
   "source": [
    "vowel_strings = []\n",
    "consontant_strings = []\n",
    "for string in substrings_u:\n",
    "    if string[0] in vowels:\n",
    "        vowel_strings.append(string)\n",
    "    else:\n",
    "        consonant_strings.append(string)"
   ]
  },
  {
   "cell_type": "code",
   "execution_count": 57,
   "id": "163f588f-74ff-48b5-b8bd-c29e9d9c2488",
   "metadata": {
    "tags": []
   },
   "outputs": [],
   "source": [
    "stuart_points = 0\n",
    "for string in consonant_strings:\n",
    "    stuart_points = stuart_points + s.count(string)\n",
    "    \n",
    "kevin_points = 0\n",
    "for string in vowel_strings:\n",
    "    kevin_points = kevin_points + s.count(string)\n",
    "\n"
   ]
  },
  {
   "cell_type": "code",
   "execution_count": 59,
   "id": "670398dd-5835-4986-a570-0146cbf5be7c",
   "metadata": {
    "tags": []
   },
   "outputs": [
    {
     "name": "stdout",
     "output_type": "stream",
     "text": [
      "Stuart 12\n"
     ]
    }
   ],
   "source": [
    "if stuart_points > kevin_points:\n",
    "    print(\"Stuart\", stuart_points)\n",
    "else: \n",
    "    print(\"Kevin\", kevin_points)"
   ]
  },
  {
   "cell_type": "code",
   "execution_count": 9,
   "id": "8000b1c2-917f-4f1d-87f1-1fd62e9033c3",
   "metadata": {
    "tags": []
   },
   "outputs": [],
   "source": [
    "def minion_game(string):\n",
    "    consonants = [\"B\", \"C\", \"D\", \"F\", \"G\", \"H\", \"J\", \"K\", \"L\", \"M\", \"N\", \"P\", \"Q\", \"R\", \"S\", \"T\", \"V\", \"W\", \"X\", \"Y\", \"Z\"]\n",
    "    vowels = [\"A\", \"E\", \"I\", \"O\", \"U\"]\n",
    "    \n",
    "    substrings = [string[i:j] for i in range(0, len(string))\n",
    "               for j in range(i + 1, len(string) + 1)]\n",
    "    \n",
    "    substrings_u = list(set(substrings))\n",
    "    \n",
    "    vowel_strings = []\n",
    "    consonant_strings = []\n",
    "\n",
    "    for s in substrings_u:\n",
    "        if string[0] in vowels:\n",
    "            vowel_strings.append(s)\n",
    "        else:\n",
    "            consonant_strings.append(s)\n",
    "            \n",
    "    stuart_points = 0\n",
    "    for s in consonant_strings:\n",
    "        stuart_points = stuart_points + string.count(s)\n",
    "    \n",
    "    kevin_points = 0\n",
    "    for s in vowel_strings:\n",
    "        kevin_points = kevin_points + string.count(s)\n",
    "        \n",
    "    if stuart_points > kevin_points:\n",
    "        print(\"Stuart\", stuart_points)\n",
    "    else: \n",
    "        print(\"Kevin\", kevin_points)"
   ]
  },
  {
   "cell_type": "code",
   "execution_count": 12,
   "id": "b18d9f26-bb44-4f08-af6c-a0e7a825255d",
   "metadata": {
    "tags": []
   },
   "outputs": [
    {
     "name": "stdout",
     "output_type": "stream",
     "text": [
      "Stuart 20\n"
     ]
    }
   ],
   "source": [
    "string = \"BANANA\"\n",
    "minion_game(string)"
   ]
  },
  {
   "cell_type": "code",
   "execution_count": null,
   "id": "4dc1c17a-af97-4bad-b406-9205b764c77b",
   "metadata": {},
   "outputs": [],
   "source": [
    "#####"
   ]
  },
  {
   "cell_type": "code",
   "execution_count": 13,
   "id": "5eda6371-2354-4c0c-a7fe-2b9c1413fc33",
   "metadata": {
    "tags": []
   },
   "outputs": [],
   "source": [
    "consonants = [\"B\", \"C\", \"D\", \"F\", \"G\", \"H\", \"J\", \"K\", \"L\", \"M\", \"N\", \"P\", \"Q\", \"R\", \"S\", \"T\", \"V\", \"W\", \"X\", \"Y\", \"Z\"]\n",
    "vowels = [\"A\", \"E\", \"I\", \"O\", \"U\"]\n"
   ]
  },
  {
   "cell_type": "code",
   "execution_count": 26,
   "id": "649abcef-1e01-4231-9dc2-187dc654cf28",
   "metadata": {
    "tags": []
   },
   "outputs": [
    {
     "name": "stdout",
     "output_type": "stream",
     "text": [
      "Stuart 12\n"
     ]
    }
   ],
   "source": [
    "string = \"BANANA\"\n",
    "substrings = [string[i:j] for i in range(0, len(string))\n",
    "               for j in range(i + 1, len(string) + 1)]\n",
    "substrings_u = list(set(substrings))\n",
    "\n",
    "consonants = [\"B\", \"C\", \"D\", \"F\", \"G\", \"H\", \"J\", \"K\", \"L\", \"M\", \"N\", \"P\", \"Q\", \"R\", \"S\", \"T\", \"V\", \"W\", \"X\", \"Y\", \"Z\"]\n",
    "vowels = [\"A\", \"E\", \"I\", \"O\", \"U\"]\n",
    "\n",
    "vowel_strings = []\n",
    "consonant_strings = []\n",
    "\n",
    "for s in substrings_u:\n",
    "    if s[0] in vowels:\n",
    "        vowel_strings.append(s)\n",
    "    else:\n",
    "        consonant_strings.append(s)\n",
    "\n",
    "stuart_points = 0\n",
    "for s in consonant_strings:\n",
    "    stuart_points = stuart_points + string.count(s)\n",
    "    \n",
    "kevin_points = 0\n",
    "for s in vowel_strings:\n",
    "    kevin_points = kevin_points + string.count(s)\n",
    "        \n",
    "if stuart_points > kevin_points:\n",
    "    print(\"Stuart\", stuart_points)\n",
    "else: \n",
    "    print(\"Kevin\", kevin_points)\n"
   ]
  },
  {
   "cell_type": "code",
   "execution_count": 27,
   "id": "1b63dccd-404f-41e3-9b6d-ed98c6391629",
   "metadata": {
    "tags": []
   },
   "outputs": [],
   "source": [
    "def minion_game(string):\n",
    "    substrings = [string[i:j] for i in range(0, len(string))\n",
    "        for j in range(i + 1, len(string) + 1)]\n",
    "    substrings_u = list(set(substrings))\n",
    "\n",
    "    consonants = [\"B\", \"C\", \"D\", \"F\", \"G\", \"H\", \"J\", \"K\", \"L\", \"M\", \"N\", \"P\", \"Q\", \"R\", \"S\", \"T\", \"V\", \"W\", \"X\", \"Y\", \"Z\"]\n",
    "    vowels = [\"A\", \"E\", \"I\", \"O\", \"U\"]\n",
    "\n",
    "    vowel_strings = []\n",
    "    consonant_strings = []\n",
    "\n",
    "    for s in substrings_u:\n",
    "        if s[0] in vowels:\n",
    "            vowel_strings.append(s)\n",
    "        else:\n",
    "            consonant_strings.append(s)\n",
    "\n",
    "    stuart_points = 0\n",
    "    for s in consonant_strings:\n",
    "        stuart_points = stuart_points + string.count(s)\n",
    "    \n",
    "    kevin_points = 0\n",
    "    for s in vowel_strings:\n",
    "        kevin_points = kevin_points + string.count(s)\n",
    "        \n",
    "    if stuart_points > kevin_points:\n",
    "        print(\"Stuart\", stuart_points)\n",
    "    else: \n",
    "        print(\"Kevin\", kevin_points)\n"
   ]
  },
  {
   "cell_type": "code",
   "execution_count": 29,
   "id": "4d7abb96-7510-48ee-81f5-dba955185ad0",
   "metadata": {
    "tags": []
   },
   "outputs": [
    {
     "name": "stdout",
     "output_type": "stream",
     "text": [
      "Kevin 11\n"
     ]
    }
   ],
   "source": [
    "string = \"ANANAS\"\n",
    "minion_game(string)"
   ]
  }
 ],
 "metadata": {
  "kernelspec": {
   "display_name": "Python 3",
   "language": "python",
   "name": "python3"
  },
  "language_info": {
   "codemirror_mode": {
    "name": "ipython",
    "version": 3
   },
   "file_extension": ".py",
   "mimetype": "text/x-python",
   "name": "python",
   "nbconvert_exporter": "python",
   "pygments_lexer": "ipython3",
   "version": "3.8.8"
  }
 },
 "nbformat": 4,
 "nbformat_minor": 5
}
