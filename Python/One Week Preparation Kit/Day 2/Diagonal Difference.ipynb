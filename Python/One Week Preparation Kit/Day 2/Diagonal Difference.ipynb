{
 "cells": [
  {
   "cell_type": "markdown",
   "id": "3d92bafb-1da8-4e3f-b489-d13d7963ccdf",
   "metadata": {},
   "source": [
    "Given a square matrix, calculate the absolute difference between the sums of its diagonals."
   ]
  },
  {
   "cell_type": "code",
   "execution_count": 1,
   "id": "9b4ca8c6-c9f9-4cf7-9dd4-7b22e1dc6bbf",
   "metadata": {
    "tags": []
   },
   "outputs": [],
   "source": [
    "import math\n",
    "import os\n",
    "import random\n",
    "import re\n",
    "import sys"
   ]
  },
  {
   "cell_type": "code",
   "execution_count": 44,
   "id": "2d4e0400-ebc1-4596-8797-d486f97bf01f",
   "metadata": {
    "tags": []
   },
   "outputs": [],
   "source": [
    "arr = [[1, 2, 3], \n",
    "       [4, 5, 6],\n",
    "       [9, 8, 9]]"
   ]
  },
  {
   "cell_type": "code",
   "execution_count": 48,
   "id": "4596ca5a-c299-42d2-a98a-bcb613c9fe08",
   "metadata": {
    "tags": []
   },
   "outputs": [],
   "source": [
    "def diagonalDifference(arr):\n",
    "    n = len(arr) - 1\n",
    "    RightDiagonal = 0\n",
    "    LeftDiagonal = 0\n",
    "    for x in range(0, len(arr)):\n",
    "        RightDiagonal = RightDiagonal + arr[x][x]\n",
    "        LeftDiagonal = LeftDiagonal + arr[x][n - x]\n",
    "        DiagonalDiff = abs(RightDiagonal - LeftDiagonal)\n",
    "    return DiagonalDiff\n",
    "    print(DiagonalDiff)"
   ]
  }
 ],
 "metadata": {
  "kernelspec": {
   "display_name": "Python 3",
   "language": "python",
   "name": "python3"
  },
  "language_info": {
   "codemirror_mode": {
    "name": "ipython",
    "version": 3
   },
   "file_extension": ".py",
   "mimetype": "text/x-python",
   "name": "python",
   "nbconvert_exporter": "python",
   "pygments_lexer": "ipython3",
   "version": "3.8.8"
  }
 },
 "nbformat": 4,
 "nbformat_minor": 5
}
