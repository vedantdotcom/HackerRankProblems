{
 "cells": [
  {
   "cell_type": "markdown",
   "id": "b20d2b07-4b08-467d-8204-9cf3b55a07c5",
   "metadata": {},
   "source": [
    "Given an array of integers, where all elements but one occur twice,  \n",
    "find the unique element."
   ]
  },
  {
   "cell_type": "code",
   "execution_count": 1,
   "id": "6927a303-e943-4e09-a432-7e4656aa7af5",
   "metadata": {
    "tags": []
   },
   "outputs": [],
   "source": [
    "import math\n",
    "import os\n",
    "import random\n",
    "import re\n",
    "import sys"
   ]
  },
  {
   "cell_type": "code",
   "execution_count": 24,
   "id": "323d45a7-5f7b-4578-ac4c-b0278ff549b7",
   "metadata": {
    "tags": []
   },
   "outputs": [],
   "source": [
    "a = [1, 2, 3, 4, 3, 2, 1]"
   ]
  },
  {
   "cell_type": "code",
   "execution_count": 25,
   "id": "bb94d6e8-54e0-4cd5-a4f3-f4f60e43597c",
   "metadata": {
    "tags": []
   },
   "outputs": [],
   "source": [
    "def lonelyinteger(a):\n",
    "    for x in range (1, 101):\n",
    "        if a.count(x) == 1:\n",
    "            unique = x\n",
    "        else:\n",
    "            pass\n",
    "    return(unique)\n",
    "    print(unique)\n",
    "    "
   ]
  },
  {
   "cell_type": "code",
   "execution_count": 26,
   "id": "640990dc-1ecb-44bb-8099-1bba7a840492",
   "metadata": {
    "tags": []
   },
   "outputs": [
    {
     "data": {
      "text/plain": [
       "5"
      ]
     },
     "execution_count": 26,
     "metadata": {},
     "output_type": "execute_result"
    }
   ],
   "source": [
    "lonelyinteger(a)"
   ]
  }
 ],
 "metadata": {
  "kernelspec": {
   "display_name": "Python 3",
   "language": "python",
   "name": "python3"
  },
  "language_info": {
   "codemirror_mode": {
    "name": "ipython",
    "version": 3
   },
   "file_extension": ".py",
   "mimetype": "text/x-python",
   "name": "python",
   "nbconvert_exporter": "python",
   "pygments_lexer": "ipython3",
   "version": "3.8.8"
  }
 },
 "nbformat": 4,
 "nbformat_minor": 5
}
